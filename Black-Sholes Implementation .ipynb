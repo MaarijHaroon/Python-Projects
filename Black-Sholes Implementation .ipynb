{
 "cells": [
  {
   "cell_type": "code",
   "execution_count": 23,
   "id": "016cf135",
   "metadata": {},
   "outputs": [],
   "source": [
    "# Importing All The Important Libraries\n",
    "\n",
    "import numpy as np\n",
    "from scipy.stats import norm"
   ]
  },
  {
   "cell_type": "code",
   "execution_count": 24,
   "id": "b49159a1",
   "metadata": {},
   "outputs": [],
   "source": [
    "# defining all the important variable of Black Sholes Model\n",
    "\n",
    "S = 42      # current price of the stock in the market\n",
    "K = 40       # strike price of the stock\n",
    "T= 0.5      # time of expiration of the stock\n",
    "r= 0.1     # risk free rate \n",
    "vol= 0.2     # standard deviation (σ)\n",
    "\n"
   ]
  },
  {
   "cell_type": "markdown",
   "id": "0755e96c",
   "metadata": {},
   "source": [
    "# Calculating d1\n",
    "\n",
    "**The formula of calculating d1 is :**\n",
    "                                **d1= (ln(S/K)+(r+0.5σ^2)T)/(σ(T^0.5))**"
   ]
  },
  {
   "cell_type": "markdown",
   "id": "0771088c",
   "metadata": {},
   "source": [
    "# Calculating d2\n",
    "\n",
    "**The formula of calculating d2 is : d2 = d1 - (σ(T^0.5))**"
   ]
  },
  {
   "cell_type": "code",
   "execution_count": 25,
   "id": "9f8f7052",
   "metadata": {},
   "outputs": [],
   "source": [
    "# now calculating d1  \n",
    "\n",
    "d1=((np.log(S/K))+(r+(0.5*np.power(vol,2)))*T)/(vol*np.sqrt(T))\n",
    "\n",
    "# now calculating d2\n",
    "\n",
    "d2=d1 - (vol*np.sqrt(T))"
   ]
  },
  {
   "cell_type": "markdown",
   "id": "4592bd1d",
   "metadata": {},
   "source": [
    "# Calculating Call Option Price"
   ]
  },
  {
   "cell_type": "markdown",
   "id": "00f03b03",
   "metadata": {},
   "source": [
    "**C = SxN(d1) - Kx(e^-rt)xN(d2)**"
   ]
  },
  {
   "cell_type": "markdown",
   "id": "32d9acef",
   "metadata": {},
   "source": [
    "# Calculating Put Option Price\n",
    "\n",
    "**P= Kx(e^-rt)xN(-d2)-SxN(-d1)**"
   ]
  },
  {
   "cell_type": "code",
   "execution_count": 26,
   "id": "39f66a8e",
   "metadata": {},
   "outputs": [],
   "source": [
    "# Now we are going to calculate call option price\n",
    "\n",
    "C= (S*norm.cdf(d1))-(K*(np.exp(-r*T)))*(norm.cdf(d2))\n",
    "\n",
    "# Now we are going to calculate put option price\n",
    "\n",
    "P=(K*(np.exp(-r*T)))*(norm.cdf(-d2))-(S*norm.cdf(-d1))"
   ]
  },
  {
   "cell_type": "code",
   "execution_count": 27,
   "id": "f5642466",
   "metadata": {},
   "outputs": [
    {
     "name": "stdout",
     "output_type": "stream",
     "text": [
      "the value of d1 is : 0.7693\n",
      "The value o d2 is: 0.6278\n",
      "The price of the call option is: $ 4.76\n",
      "The price of the put option is: $ 0.81\n"
     ]
    }
   ],
   "source": [
    "# Printing Out The Results\n",
    "\n",
    "print('the value of d1 is :',round(d1,4))\n",
    "print('The value o d2 is:',round(d2,4))\n",
    "print('The price of the call option is:','$',round(C,2))\n",
    "print('The price of the put option is:','$',round(P,2))"
   ]
  },
  {
   "cell_type": "code",
   "execution_count": null,
   "id": "1ab46d58",
   "metadata": {},
   "outputs": [],
   "source": []
  }
 ],
 "metadata": {
  "kernelspec": {
   "display_name": "Python 3 (ipykernel)",
   "language": "python",
   "name": "python3"
  },
  "language_info": {
   "codemirror_mode": {
    "name": "ipython",
    "version": 3
   },
   "file_extension": ".py",
   "mimetype": "text/x-python",
   "name": "python",
   "nbconvert_exporter": "python",
   "pygments_lexer": "ipython3",
   "version": "3.9.13"
  }
 },
 "nbformat": 4,
 "nbformat_minor": 5
}
