{
 "cells": [
  {
   "cell_type": "code",
   "execution_count": 38,
   "id": "e9dd210e",
   "metadata": {},
   "outputs": [],
   "source": [
    "#importing all the important libraries that we are going to use\n",
    "\n",
    "import yfinance as yf\n",
    "import pandas as pd\n",
    "import numpy as np\n",
    "from datetime import datetime,timedelta\n",
    "from scipy.optimize import minimize"
   ]
  },
  {
   "cell_type": "code",
   "execution_count": 62,
   "id": "e119e6f7",
   "metadata": {},
   "outputs": [],
   "source": [
    "# ask user to input tickers\n",
    "\n",
    "tickers=['AXP','AIG','AMT','AMP','AME']\n",
    "\n",
    "# write down the end date\n",
    "\n",
    "end_date=datetime.today()\n",
    "\n",
    "# set the start date to 8 years ago\n",
    "\n",
    "start_date=end_date - timedelta(days=8*365) \n",
    "\n",
    "# creating an empty dataframe\n",
    "\n",
    "new_df= pd.DataFrame()\n"
   ]
  },
  {
   "cell_type": "code",
   "execution_count": 43,
   "id": "b55bcb26",
   "metadata": {},
   "outputs": [
    {
     "name": "stdout",
     "output_type": "stream",
     "text": [
      "[*********************100%***********************]  1 of 1 completed\n",
      "[*********************100%***********************]  1 of 1 completed\n",
      "[*********************100%***********************]  1 of 1 completed\n",
      "[*********************100%***********************]  1 of 1 completed\n",
      "[*********************100%***********************]  1 of 1 completed\n"
     ]
    }
   ],
   "source": [
    "# downloading the adjusting closing prices for each ticker\n",
    "\n",
    "for ticker in tickers:\n",
    "    data=yf.download(ticker,start=start_date,end=end_date)\n",
    "    new_df[ticker]=data['Adj Close']\n"
   ]
  },
  {
   "cell_type": "code",
   "execution_count": 44,
   "id": "1919bbbe",
   "metadata": {},
   "outputs": [
    {
     "name": "stdout",
     "output_type": "stream",
     "text": [
      "                   AXP        AIG         AMT         AMP         AME\n",
      "Date                                                                 \n",
      "2016-02-22   49.342537  42.307747   74.744499   70.546196   43.693436\n",
      "2016-02-23   48.881298  41.463219   73.722672   69.619911   43.134602\n",
      "2016-02-24   48.464424  41.349533   74.568611   69.619911   42.983044\n",
      "2016-02-25   49.129650  41.714966   74.895264   70.404327   43.939690\n",
      "2016-02-26   49.120777  41.487579   75.389427   72.173409   44.204906\n",
      "...                ...        ...         ...         ...         ...\n",
      "2024-02-12  212.259995  69.730003  191.770004  397.369995  168.419998\n",
      "2024-02-13  209.669998  70.089996  188.419998  389.890015  168.039993\n",
      "2024-02-14  210.899994  69.169998  188.490005  391.359985  173.410004\n",
      "2024-02-15  212.529999  70.300003  189.460007  397.829987  173.740005\n",
      "2024-02-16  212.559998  70.040001  187.130005  397.799988  173.889999\n",
      "\n",
      "[2012 rows x 5 columns]\n"
     ]
    }
   ],
   "source": [
    "# displaying our dataframe\n",
    "\n",
    "print(new_df)"
   ]
  },
  {
   "cell_type": "code",
   "execution_count": 64,
   "id": "b89ab5eb",
   "metadata": {},
   "outputs": [
    {
     "name": "stdout",
     "output_type": "stream",
     "text": [
      "          AXP       AIG       AMT       AMP       AME\n",
      "AXP  0.102388  0.078450  0.029399  0.085944  0.051414\n",
      "AIG  0.078450  0.120325  0.026442  0.090600  0.053402\n",
      "AMT  0.029399  0.026442  0.067859  0.036818  0.027620\n",
      "AMP  0.085944  0.090600  0.036818  0.127466  0.066043\n",
      "AME  0.051414  0.053402  0.027620  0.066043  0.062022\n"
     ]
    }
   ],
   "source": [
    "# Calculating the log returns for each ticker\n",
    "\n",
    "y= np.log(new_df/new_df.shift(1))\n",
    "\n",
    "# dropping the null values from log return\n",
    "\n",
    "log_return=y.dropna()\n",
    "\n",
    "# Calculating The Covariance Matrix\n",
    "\n",
    "cov_matrix=log_return.cov()*252\n",
    "\n",
    "# displaying the covariance matrix\n",
    "print(cov_matrix)"
   ]
  },
  {
   "cell_type": "code",
   "execution_count": 66,
   "id": "d02f0fb5",
   "metadata": {},
   "outputs": [],
   "source": [
    "# Calculating the Optimal Portfolio Metrics\n",
    "\n",
    "def sta_dev (weights,cov_matrix):\n",
    "    var=weights.T @ covar_matrix @ weights\n",
    "    return np.sqrt(var)  \n",
    "\n",
    "def expected_return(weights, log_return):\n",
    "    return np.sum(log_return.mean()*weights)*252\n",
    "\n",
    "def sharpe_ratio(weights, log_return, cov_matrix, risk_free_rate):\n",
    "    return (expected_return(weights, log_return) - risk_free_rate) / sta_dev(weights, cov_matrix)\n",
    "\n",
    "risk_free_rate = 0.0386\n",
    "\n",
    "def neg_sharpe_ratio(weights, log_return, cov_matrix, risk_free_rate):\n",
    "    return -sharpe_ratio(weights, log_return, cov_matrix, risk_free_rate)\n",
    "\n",
    "constraints = {'type': 'eq', 'fun': lambda weights: np.sum(weights) - 1}\n",
    "bounds = [(0, 0.4) for _ in range(len(tickers))]\n",
    "\n",
    "initial_weights = np.array([1/len(tickers)]*len(tickers))\n",
    "\n",
    "optimized_results = minimize(neg_sharpe_ratio, initial_weights, args=(log_return, cov_matrix, risk_free_rate), method='SLSQP', constraints=constraints, bounds=bounds)\n"
   ]
  },
  {
   "cell_type": "code",
   "execution_count": 67,
   "id": "db979ae9",
   "metadata": {},
   "outputs": [
    {
     "name": "stdout",
     "output_type": "stream",
     "text": [
      "Optimal Weights:\n",
      "AXP: 0.1842\n",
      "AIG: 0.0000\n",
      "AMT: 0.1506\n",
      "AMP: 0.2652\n",
      "AME: 0.4000\n",
      "Expected Annual Return: 0.1777\n",
      "Expected Volatility: 0.2486\n",
      "Sharpe Ratio: 0.5598\n"
     ]
    }
   ],
   "source": [
    "# Analyze the optimal Portfolio\n",
    "\n",
    "optimal_weights = optimized_results.x\n",
    "\n",
    "print(\"Optimal Weights:\")\n",
    "for ticker, weight in zip(tickers, optimal_weights):\n",
    "    print(f\"{ticker}: {weight:.4f}\")\n",
    "\n",
    "optimal_portfolio_return = expected_return(optimal_weights, log_return)\n",
    "optimal_portfolio_volatility = sta_dev(optimal_weights, cov_matrix)\n",
    "optimal_sharpe_ratio = sharpe_ratio(optimal_weights, log_return, cov_matrix, risk_free_rate)\n",
    "\n",
    "print(f\"Expected Annual Return: {optimal_portfolio_return:.4f}\")\n",
    "print(f\"Expected Volatility: {optimal_portfolio_volatility:.4f}\")\n",
    "print(f\"Sharpe Ratio: {optimal_sharpe_ratio:.4f}\")"
   ]
  },
  {
   "cell_type": "code",
   "execution_count": 75,
   "id": "fc91504e",
   "metadata": {},
   "outputs": [
    {
     "data": {
      "image/png": "[encoded data removed]",
      "text/plain": [
       "<Figure size 600x300 with 1 Axes>"
      ]
     },
     "metadata": {},
     "output_type": "display_data"
    }
   ],
   "source": [
    "# Visualizing  Our Result\n",
    "\n",
    "import matplotlib.pyplot as plt\n",
    "\n",
    "plt.figure(figsize=(6, 3), facecolor='grey')  # Set background color to grey\n",
    "plt.bar(tickers, optimal_weights, color='black')  # Change color of bars to black\n",
    "\n",
    "plt.xlabel('Assets', color='white')  # Set x-axis label color to white\n",
    "plt.ylabel('Optimal Weights', color='white')  # Set y-axis label color to white\n",
    "plt.title('Optimal Portfolio Weights', color='white')  # Set title color to white\n",
    "\n",
    "plt.xticks(color='white')  # Set x-axis tick labels color to white\n",
    "plt.yticks(color='white')  # Set y-axis tick labels color to white\n",
    "\n",
    "plt.show()\n"
   ]
  },
  {
   "cell_type": "code",
   "execution_count": null,
   "id": "c23f28df",
   "metadata": {},
   "outputs": [],
   "source": []
  },
  {
   "cell_type": "code",
   "execution_count": null,
   "id": "8cfc269c",
   "metadata": {},
   "outputs": [],
   "source": []
  }
 ],
 "metadata": {
  "kernelspec": {
   "display_name": "Python 3 (ipykernel)",
   "language": "python",
   "name": "python3"
  },
  "language_info": {
   "codemirror_mode": {
    "name": "ipython",
    "version": 3
   },
   "file_extension": ".py",
   "mimetype": "text/x-python",
   "name": "python",
   "nbconvert_exporter": "python",
   "pygments_lexer": "ipython3",
   "version": "3.9.13"
  }
 },
 "nbformat": 4,
 "nbformat_minor": 5
}
